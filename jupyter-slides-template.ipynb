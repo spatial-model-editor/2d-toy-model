{
 "cells": [
  {
   "cell_type": "markdown",
   "id": "ed72c963",
   "metadata": {
    "slideshow": {
     "slide_type": "slide"
    }
   },
   "source": [
    "# jupyter-slides-template\n",
    "\n",
    "- This is a web version of a Jupyter notebook [RISE](https://rise.readthedocs.io/en/stable/) presentation  \n",
    "- It is automatically generated from this [jupyter notebook](https://github.com/ssciwr/jupyter-slides-template/blob/main/jupyter-slides-template.ipynb)\n",
    "- Press `Space` or `Right` to move to the next page\n",
    "- Press `Shift+Space` or `Left` to move to the previous page\n",
    "- Press `Escape` to zoom out\n",
    "- Make your own at [github.com/ssciwr/jupyter-slides-template](https://github.com/ssciwr/jupyter-slides-template)"
   ]
  },
  {
   "cell_type": "markdown",
   "id": "f6f11eab",
   "metadata": {
    "slideshow": {
     "slide_type": "slide"
    }
   },
   "source": [
    "## Display a cell with its output"
   ]
  },
  {
   "cell_type": "code",
   "execution_count": null,
   "id": "1f4e7a19",
   "metadata": {
    "slideshow": {
     "slide_type": "fragment"
    }
   },
   "outputs": [],
   "source": [
    "import sme\n",
    "\n",
    "model = sme.open_example_model()\n",
    "print(model)"
   ]
  },
  {
   "cell_type": "markdown",
   "id": "f2137e57",
   "metadata": {
    "slideshow": {
     "slide_type": "slide"
    }
   },
   "source": [
    "## Output can be plots or images"
   ]
  },
  {
   "cell_type": "code",
   "execution_count": null,
   "id": "b6712bb7",
   "metadata": {
    "slideshow": {
     "slide_type": "fragment"
    }
   },
   "outputs": [],
   "source": [
    "import matplotlib.pyplot as plt\n",
    "\n",
    "plt.title(model.name)\n",
    "plt.imshow(model.compartment_image)\n",
    "plt.show()"
   ]
  },
  {
   "cell_type": "markdown",
   "id": "6f85b459",
   "metadata": {
    "slideshow": {
     "slide_type": "slide"
    }
   },
   "source": [
    "## Or even videos"
   ]
  },
  {
   "cell_type": "code",
   "execution_count": null,
   "id": "0ca63e0c",
   "metadata": {
    "slideshow": {
     "slide_type": "fragment"
    }
   },
   "outputs": [],
   "source": [
    "import sme_contrib.plot as smeplot\n",
    "from IPython.display import HTML\n",
    "\n",
    "results = model.simulate(100, 10)\n",
    "anim = smeplot.concentration_heatmap_animation(results, [\"B_cell\"])\n",
    "HTML(anim.to_html5_video())"
   ]
  },
  {
   "cell_type": "markdown",
   "id": "ffbc7619",
   "metadata": {
    "slideshow": {
     "slide_type": "slide"
    }
   },
   "source": [
    "## More information\n",
    "\n",
    "- https://medium.com/@mjspeck/presenting-code-using-jupyter-notebook-slides-a8a3c3b59d67\n",
    "- https://www.blog.pythonlibrary.org/2018/09/25/creating-presentations-with-jupyter-notebook/\n",
    "- https://rise.readthedocs.io/\n",
    "- https://github.com/ssciwr/jupyter-slides-template"
   ]
  }
 ],
 "metadata": {
  "celltoolbar": "Slideshow",
  "kernelspec": {
   "display_name": "Python 3",
   "language": "python",
   "name": "python3"
  },
  "language_info": {
   "codemirror_mode": {
    "name": "ipython",
    "version": 3
   },
   "file_extension": ".py",
   "mimetype": "text/x-python",
   "name": "python",
   "nbconvert_exporter": "python",
   "pygments_lexer": "ipython3",
   "version": "3.9.1"
  }
 },
 "nbformat": 4,
 "nbformat_minor": 5
}
