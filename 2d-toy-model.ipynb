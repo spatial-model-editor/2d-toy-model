{
 "cells": [
  {
   "cell_type": "markdown",
   "id": "0b101bff-834f-4ea5-9bbe-643a4c783e59",
   "metadata": {
    "slideshow": {
     "slide_type": "slide"
    },
    "tags": []
   },
   "source": [
    "# 2D toy model\n",
    "\n",
    "- start from segmented 2d image of cells\n",
    "- modify image to create explicit membrane compartments\n",
    "- combine cells, combine membranes\n",
    "- create a simple sme model using this geometry\n",
    "- do an example simulation\n",
    "\n",
    "## Navigation\n",
    "\n",
    "- Press `Space` to show the next page\n",
    "- Press `Shift+Space` to show the previous page\n",
    "- Press `Escape` to zoom out"
   ]
  },
  {
   "cell_type": "markdown",
   "id": "a395daaa-c5fa-4424-a2a9-1387d75b3ddf",
   "metadata": {
    "slideshow": {
     "slide_type": "slide"
    },
    "tags": []
   },
   "source": [
    "## Input data"
   ]
  },
  {
   "cell_type": "code",
   "execution_count": null,
   "id": "8816da36-617f-42b0-b1e1-74cfc3be0a55",
   "metadata": {
    "slideshow": {
     "slide_type": "subslide"
    },
    "tags": []
   },
   "outputs": [],
   "source": [
    "import numpy as np\n",
    "import matplotlib.pyplot as plt\n",
    "from matplotlib import animation\n",
    "import cv2\n",
    "import imageio.v3 as iio\n",
    "import skimage\n",
    "import sme\n",
    "from IPython.display import HTML\n",
    "\n",
    "plt.rcParams[\"figure.figsize\"] = (8, 8)\n",
    "\n",
    "\n",
    "def show_image(img, title=\"\"):\n",
    "    plt.imshow(img, interpolation=\"none\")\n",
    "    plt.title(title)\n",
    "    plt.show()"
   ]
  },
  {
   "cell_type": "code",
   "execution_count": null,
   "id": "a8038b98-2c79-4b51-9330-e1bd89997483",
   "metadata": {
    "slideshow": {
     "slide_type": "subslide"
    },
    "tags": []
   },
   "outputs": [],
   "source": [
    "show_image(\n",
    "    iio.imread(\"C2-sph1_gly_au-0036_segmentedWithCellpose.png\"),\n",
    "    \"Segmentation overlayed on source image\",\n",
    ")"
   ]
  },
  {
   "cell_type": "code",
   "execution_count": null,
   "id": "9e6f32c3-0d37-4c5f-8227-0241e4b4491f",
   "metadata": {
    "slideshow": {
     "slide_type": "subslide"
    },
    "tags": []
   },
   "outputs": [],
   "source": [
    "img_indexed = iio.imread(\"C2-sph1_gly_au-0036_cp_masks.png\")\n",
    "show_image(skimage.color.label2rgb(img_indexed), \"Segmented image\")"
   ]
  },
  {
   "cell_type": "markdown",
   "id": "910054ff-6087-413d-88a3-df685823edad",
   "metadata": {
    "slideshow": {
     "slide_type": "slide"
    },
    "tags": []
   },
   "source": [
    "### Generate explicit membranes by dilating each cell\n",
    "\n",
    "- We want to add explicit membrane compartments around each cell.\n",
    "- To do this we take a mask of each cell individually, dilate it, and select the pixels that differ from the original mask\n",
    "- Repeating this over all cells and combining the results gives us a mask of membrane compartment pixels"
   ]
  },
  {
   "cell_type": "code",
   "execution_count": null,
   "id": "7b842b78-444b-4188-b57e-e04e84bca644",
   "metadata": {
    "slideshow": {
     "slide_type": "fragment"
    },
    "tags": []
   },
   "outputs": [],
   "source": [
    "img_membrane_mask = np.zeros(img_indexed.shape).astype(bool)\n",
    "kernel = cv2.getStructuringElement(cv2.MORPH_RECT, (6, 6))\n",
    "for index in range(img_indexed.max()):\n",
    "    img = (img_indexed == index).astype(np.uint8)\n",
    "    img_membrane_mask |= cv2.dilate(img, kernel) != img"
   ]
  },
  {
   "cell_type": "code",
   "execution_count": null,
   "id": "b04075c0-e7c7-487b-91c4-b77f324065b6",
   "metadata": {
    "slideshow": {
     "slide_type": "subslide"
    },
    "tags": []
   },
   "outputs": [],
   "source": [
    "show_image(img_membrane_mask, \"Membrane pixels mask\")"
   ]
  },
  {
   "cell_type": "markdown",
   "id": "2805eca9-28c7-4026-9f6a-38d0acd2ccd7",
   "metadata": {
    "slideshow": {
     "slide_type": "subslide"
    },
    "tags": []
   },
   "source": [
    "### Define cells as any segmented pixel excluding membrane pixels\n",
    "\n",
    "- Now we select all pixels that were identified as cells\n",
    "- Then we exclude pixels that are part of the membrane mask to leave a cell mask"
   ]
  },
  {
   "cell_type": "code",
   "execution_count": null,
   "id": "23882656-b6be-4364-bb8f-ede58edb6449",
   "metadata": {
    "slideshow": {
     "slide_type": "fragment"
    },
    "tags": []
   },
   "outputs": [],
   "source": [
    "img_cell_mask = img_indexed != 0\n",
    "img_cell_mask = img_cell_mask & (img_cell_mask != img_membrane_mask)"
   ]
  },
  {
   "cell_type": "code",
   "execution_count": null,
   "id": "458fabaf-ef73-42a4-bb55-bb1c6de24b8a",
   "metadata": {
    "slideshow": {
     "slide_type": "subslide"
    },
    "tags": []
   },
   "outputs": [],
   "source": [
    "show_image(img_cell_mask, \"Cell pixels mask\")"
   ]
  },
  {
   "cell_type": "markdown",
   "id": "7472101b-c42b-4389-9ae8-6520aeb603e7",
   "metadata": {
    "slideshow": {
     "slide_type": "slide"
    },
    "tags": []
   },
   "source": [
    "### Construct segmented geometry image for sme\n",
    "\n",
    "- From these masks we can construct a segmented geometry image for sme\n",
    "- Each colour in this image can then be assigned to a compartment in the model"
   ]
  },
  {
   "cell_type": "code",
   "execution_count": null,
   "id": "4bf4db5b-1229-4172-9bab-0564d062502e",
   "metadata": {
    "slideshow": {
     "slide_type": "fragment"
    },
    "tags": []
   },
   "outputs": [],
   "source": [
    "img = np.zeros((*img_cell_mask.shape, 3), dtype=np.uint8)\n",
    "img[img_cell_mask] = [100, 100, 255]\n",
    "img[img_membrane_mask] = [255, 100, 100]\n",
    "iio.imwrite(\"geom.png\", img)"
   ]
  },
  {
   "cell_type": "code",
   "execution_count": null,
   "id": "c103d110-2254-4b69-b1c3-7a94f96a2ff4",
   "metadata": {
    "slideshow": {
     "slide_type": "subslide"
    },
    "tags": []
   },
   "outputs": [],
   "source": [
    "show_image(img, \"Segmented geometry image for sme\")"
   ]
  },
  {
   "cell_type": "markdown",
   "id": "954fb23b-3529-4174-875b-8a9131cebffb",
   "metadata": {
    "slideshow": {
     "slide_type": "slide"
    },
    "tags": []
   },
   "source": [
    "### Create sme model\n",
    "\n",
    "- This was done using the GUI\n",
    "- Geometry image was downscaled to 512x512 pixels\n",
    "- One species in each compartment, intially only non-zero in outside\n",
    "- Reactions: `outside <-> membrane` and `membrane <-> cell`"
   ]
  },
  {
   "cell_type": "code",
   "execution_count": null,
   "id": "819f5f24-e072-482d-919c-ebc3b6962cf7",
   "metadata": {
    "slideshow": {
     "slide_type": "subslide"
    },
    "tags": []
   },
   "outputs": [],
   "source": [
    "model = sme.Model(\"2d-toy-model.xml\")\n",
    "show_image(model.compartment_image[0, :])"
   ]
  },
  {
   "cell_type": "markdown",
   "id": "8c4f825f-a162-48bd-bea3-7b3425045fe8",
   "metadata": {
    "slideshow": {
     "slide_type": "slide"
    },
    "tags": []
   },
   "source": [
    "### Simulate model\n",
    "\n",
    "- simulate for 20000s, storing the results every 100s\n",
    "- this might take a few minutes"
   ]
  },
  {
   "cell_type": "code",
   "execution_count": null,
   "id": "08075d98-5e68-4b7b-b7f9-f6588e36f547",
   "metadata": {
    "slideshow": {
     "slide_type": "fragment"
    },
    "tags": []
   },
   "outputs": [],
   "source": [
    "simulation_results = model.simulate(20000, 100)"
   ]
  },
  {
   "cell_type": "markdown",
   "id": "9cc5ad2e-1c89-44a6-bbc8-a2710418195d",
   "metadata": {
    "slideshow": {
     "slide_type": "subslide"
    },
    "tags": []
   },
   "source": [
    "### Create animation of simulation results"
   ]
  },
  {
   "cell_type": "code",
   "execution_count": null,
   "id": "77555c23-194d-4463-ab3a-c186074d233e",
   "metadata": {
    "slideshow": {
     "slide_type": "fragment"
    },
    "tags": []
   },
   "outputs": [],
   "source": [
    "fig, ax = plt.subplots(constrained_layout=True)\n",
    "ax.set_title(f\"Concentration\")\n",
    "norm = plt.Normalize(vmin=0, vmax=1)\n",
    "im = ax.imshow(np.zeros((1, 1)), norm=norm)\n",
    "fig.colorbar(im, ax=ax)\n",
    "artists = [\n",
    "    [\n",
    "        ax.imshow(\n",
    "            sum(simulation_result.species_concentration.values())[0, :],\n",
    "            animated=True,\n",
    "            interpolation=None,\n",
    "            norm=norm,\n",
    "        )\n",
    "    ]\n",
    "    for simulation_result in simulation_results\n",
    "]\n",
    "anim = animation.ArtistAnimation(fig, artists, interval=200, blit=True, repeat=False)\n",
    "plt.close()"
   ]
  },
  {
   "cell_type": "code",
   "execution_count": null,
   "id": "f5a08606-e0a9-46bc-90c7-cef9201b3f7a",
   "metadata": {
    "slideshow": {
     "slide_type": "subslide"
    },
    "tags": []
   },
   "outputs": [],
   "source": [
    "HTML(anim.to_html5_video())"
   ]
  },
  {
   "cell_type": "code",
   "execution_count": null,
   "id": "2f120c44",
   "metadata": {},
   "outputs": [],
   "source": []
  }
 ],
 "metadata": {
  "kernelspec": {
   "display_name": "Python 3 (ipykernel)",
   "language": "python",
   "name": "python3"
  },
  "language_info": {
   "codemirror_mode": {
    "name": "ipython",
    "version": 3
   },
   "file_extension": ".py",
   "mimetype": "text/x-python",
   "name": "python",
   "nbconvert_exporter": "python",
   "pygments_lexer": "ipython3",
   "version": "3.10.9"
  }
 },
 "nbformat": 4,
 "nbformat_minor": 5
}
