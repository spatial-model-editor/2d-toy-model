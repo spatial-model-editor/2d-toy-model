{
 "cells": [
  {
   "cell_type": "markdown",
   "id": "0b101bff-834f-4ea5-9bbe-643a4c783e59",
   "metadata": {},
   "source": [
    "# 2D toy model"
   ]
  },
  {
   "cell_type": "markdown",
   "id": "a395daaa-c5fa-4424-a2a9-1387d75b3ddf",
   "metadata": {},
   "source": [
    "## Segmentation pre-processing"
   ]
  },
  {
   "cell_type": "code",
   "execution_count": null,
   "id": "8816da36-617f-42b0-b1e1-74cfc3be0a55",
   "metadata": {},
   "outputs": [],
   "source": [
    "import numpy as np\n",
    "import matplotlib.pyplot as plt\n",
    "import cv2\n",
    "import imageio.v3 as iio\n",
    "import skimage\n",
    "\n",
    "plt.rcParams[\"figure.figsize\"] = (16, 16)"
   ]
  },
  {
   "cell_type": "markdown",
   "id": "e1cb25c2-6a72-4fb2-ae61-a5436baae1e9",
   "metadata": {},
   "source": [
    "### Illustration of segmentation on top of source image\n",
    "\n",
    "An image illustrating the segmented cells superimposed on the original grayscale image"
   ]
  },
  {
   "cell_type": "code",
   "execution_count": null,
   "id": "a8038b98-2c79-4b51-9330-e1bd89997483",
   "metadata": {},
   "outputs": [],
   "source": [
    "img_combined = iio.imread(\"C2-sph1_gly_au-0036_segmentedWithCellpose.png\")\n",
    "plt.imshow(img_combined, interpolation=\"none\")"
   ]
  },
  {
   "cell_type": "markdown",
   "id": "f65d0f78-5e8f-4a63-a067-eb91774eb743",
   "metadata": {},
   "source": [
    "### Segmented indexed image\n",
    "\n",
    "The segmented cells from the above image with a different value for each cell"
   ]
  },
  {
   "cell_type": "code",
   "execution_count": null,
   "id": "9e6f32c3-0d37-4c5f-8227-0241e4b4491f",
   "metadata": {},
   "outputs": [],
   "source": [
    "img_indexed = iio.imread(\"C2-sph1_gly_au-0036_cp_masks.png\")\n",
    "plt.imshow(skimage.color.label2rgb(img_indexed), interpolation=\"none\")"
   ]
  },
  {
   "cell_type": "markdown",
   "id": "910054ff-6087-413d-88a3-df685823edad",
   "metadata": {},
   "source": [
    "### Generate explicit membranes by dilating each cell\n",
    "\n",
    "- We want to add explicit membrane compartments around each cell.\n",
    "- To do this we take a mask of each cell individually, dilate it, and select the pixels that differ from the original mask\n",
    "- Repeating this over all cells and combining the results gives us a mask of membrane compartment pixels"
   ]
  },
  {
   "cell_type": "code",
   "execution_count": null,
   "id": "c7b56ea5-3d77-45f5-ba1c-9f52013097d1",
   "metadata": {},
   "outputs": [],
   "source": [
    "img_membrane_mask = np.zeros(img_indexed.shape).astype(bool)\n",
    "kernel = cv2.getStructuringElement(cv2.MORPH_RECT, (6, 6))\n",
    "for index in range(img_indexed.max()):\n",
    "    img = (img_indexed == index).astype(np.uint8)\n",
    "    img_membrane_mask |= cv2.dilate(img, kernel) != img\n",
    "plt.imshow(img_membrane_mask, interpolation=\"none\")"
   ]
  },
  {
   "cell_type": "markdown",
   "id": "2805eca9-28c7-4026-9f6a-38d0acd2ccd7",
   "metadata": {},
   "source": [
    "### Generate cells as anything segmented excluding these membranes\n",
    "\n",
    "- Now we select all pixels that were identified as cells\n",
    "- Then we exclude pixels that are part of the membrane mask to leave a cell mask"
   ]
  },
  {
   "cell_type": "code",
   "execution_count": null,
   "id": "8babe275-cf03-4f9d-87d0-8459f12cd3ef",
   "metadata": {},
   "outputs": [],
   "source": [
    "img_cell_mask = img_indexed != 0\n",
    "img_cell_mask = img_cell_mask & (img_cell_mask != img_membrane_mask)\n",
    "plt.imshow(img_cell_mask, interpolation=\"none\")"
   ]
  },
  {
   "cell_type": "markdown",
   "id": "7472101b-c42b-4389-9ae8-6520aeb603e7",
   "metadata": {},
   "source": [
    "### Construct segmented geometry image for sme"
   ]
  },
  {
   "cell_type": "code",
   "execution_count": null,
   "id": "573cf23e-b964-4f6a-8cd3-3d0c8cc39119",
   "metadata": {},
   "outputs": [],
   "source": [
    "img = np.zeros((*img_cell_mask.shape, 3), dtype=np.uint8)\n",
    "img[img_cell_mask] = [100, 100, 255]\n",
    "img[img_membrane_mask] = [255, 100, 100]\n",
    "plt.imshow(img)\n",
    "iio.imwrite(\"geom.png\", img)"
   ]
  },
  {
   "cell_type": "code",
   "execution_count": null,
   "id": "8cea89b7-c025-4879-8000-850828a06bff",
   "metadata": {},
   "outputs": [],
   "source": []
  }
 ],
 "metadata": {
  "kernelspec": {
   "display_name": "Python 3 (ipykernel)",
   "language": "python",
   "name": "python3"
  },
  "language_info": {
   "codemirror_mode": {
    "name": "ipython",
    "version": 3
   },
   "file_extension": ".py",
   "mimetype": "text/x-python",
   "name": "python",
   "nbconvert_exporter": "python",
   "pygments_lexer": "ipython3",
   "version": "3.10.8"
  }
 },
 "nbformat": 4,
 "nbformat_minor": 5
}
