{
 "cells": [
  {
   "cell_type": "markdown",
   "id": "0",
   "metadata": {
    "editable": true,
    "slideshow": {
     "slide_type": "slide"
    },
    "tags": []
   },
   "source": [
    "# 3D toy model\n",
    "\n",
    "- generate a segmented 3d image of cells\n",
    "- modify image to create explicit membrane compartments\n",
    "- combine cells, combine membranes\n",
    "- create a simple sme model using this geometry\n",
    "- do an example simulation\n",
    "\n",
    "### Navigation\n",
    "\n",
    "- Press `Space` to show the next page\n",
    "- Press `Shift+Space` to show the previous page\n",
    "- Press `Escape` to zoom out"
   ]
  },
  {
   "cell_type": "markdown",
   "id": "1",
   "metadata": {
    "editable": true,
    "slideshow": {
     "slide_type": "slide"
    },
    "tags": []
   },
   "source": [
    "### Utility functions"
   ]
  },
  {
   "cell_type": "code",
   "execution_count": null,
   "id": "2",
   "metadata": {
    "editable": true,
    "slideshow": {
     "slide_type": "subslide"
    },
    "tags": []
   },
   "outputs": [],
   "source": [
    "import numpy as np\n",
    "import matplotlib.pyplot as plt\n",
    "from matplotlib import animation\n",
    "from mpl_toolkits.mplot3d import Axes3D\n",
    "import imageio.v3 as iio\n",
    "import tifffile\n",
    "import skimage\n",
    "import sme\n",
    "from IPython.display import HTML\n",
    "from scipy import ndimage as ndi\n",
    "\n",
    "plt.rcParams[\"figure.figsize\"] = (8, 8)"
   ]
  },
  {
   "cell_type": "code",
   "execution_count": null,
   "id": "3",
   "metadata": {
    "editable": true,
    "slideshow": {
     "slide_type": "subslide"
    },
    "tags": []
   },
   "outputs": [],
   "source": [
    "def plot_voxels(ax, img, filled, title):\n",
    "    # plot voxels from Z,Y,X,rgb image array to matplotlib Axes3D object ax\n",
    "    # filled is a Z,Y,X boolean array, if negative the corresponding voxel is not displayed\n",
    "    # ax.voxels assumes x,y,z order, so first swap the x & z axes\n",
    "    img_voxels = np.swapaxes(img, 0, 2)\n",
    "    filled_voxels = np.swapaxes(filled, 0, 2)\n",
    "    ax.voxels(filled=filled_voxels, facecolors=img_voxels, shade=True)\n",
    "    ax.set_title(f\"{title} [voxels]\")\n",
    "    ax.set_xlabel(\"x\")\n",
    "    ax.set_ylabel(\"y\")\n",
    "    ax.set_zlabel(\"z\")"
   ]
  },
  {
   "cell_type": "code",
   "execution_count": null,
   "id": "4",
   "metadata": {
    "editable": true,
    "slideshow": {
     "slide_type": "subslide"
    },
    "tags": []
   },
   "outputs": [],
   "source": [
    "def plot_image_stack(ax, img, title):\n",
    "    # plot Z,Y,X,rgb image array to matplotlib Axes3D object ax as 2d image for each z-slice\n",
    "    Z, Y, X, nc = img.shape\n",
    "    x, y = np.meshgrid(np.arange(X), np.arange(Y))\n",
    "    for i in range(Z):\n",
    "        ax.plot_surface(\n",
    "            x,\n",
    "            y,\n",
    "            i * np.ones((Y, X)),\n",
    "            facecolors=img[i],\n",
    "            rstride=1,\n",
    "            cstride=1,\n",
    "            alpha=1.0,\n",
    "            shade=True,\n",
    "            linewidth=0,\n",
    "        )\n",
    "    ax.set_title(f\"{title} [image stack]\")\n",
    "    ax.set_xlabel(\"x\")\n",
    "    ax.set_ylabel(\"y\")\n",
    "    ax.set_zlabel(\"z\")"
   ]
  },
  {
   "cell_type": "code",
   "execution_count": null,
   "id": "5",
   "metadata": {
    "editable": true,
    "slideshow": {
     "slide_type": "subslide"
    },
    "tags": []
   },
   "outputs": [],
   "source": [
    "def show_image(image, title=\"\", ignore_index=None):\n",
    "    # Expects either Z,Y,X array of voxel indices, or Z,Y,X,color array of (r,g,b) voxel colors\n",
    "    if image.ndim == 3:\n",
    "        # convert indexed image -> rgb\n",
    "        img = skimage.color.label2rgb(image)\n",
    "        # exclude voxels with index index_to_ignore\n",
    "        filled = image != ignore_index\n",
    "    else:\n",
    "        # image already has rgb values for each voxel: ensure they are normalised to 1\n",
    "        img = image / np.max(image)\n",
    "        # include all voxels\n",
    "        filled = np.full(image.shape[0:3], True)\n",
    "    fig, (ax_v, ax_i) = plt.subplots(1, 2, subplot_kw=dict(projection=\"3d\"))\n",
    "    fig.tight_layout()\n",
    "    plot_voxels(ax_v, img, filled, title)\n",
    "    plot_image_stack(ax_i, img, title)\n",
    "    plt.show()"
   ]
  },
  {
   "cell_type": "code",
   "execution_count": null,
   "id": "6",
   "metadata": {
    "editable": true,
    "slideshow": {
     "slide_type": "subslide"
    },
    "tags": []
   },
   "outputs": [],
   "source": [
    "def sphere_mask(grid_shape, center, radius, deformation):\n",
    "    # generate a boolean mask for a sphere with given center, radius and deformation\n",
    "    Z, Y, X = grid_shape\n",
    "    z0, y0, x0 = center\n",
    "    dz, dy, dx = deformation\n",
    "    z, y, x = np.ogrid[:Z, :Y, :X]\n",
    "    return dx * (x - x0) ** 2 + dy * (y - y0) ** 2 + dz * (z - z0) ** 2 <= radius**2"
   ]
  },
  {
   "cell_type": "code",
   "execution_count": null,
   "id": "7",
   "metadata": {
    "editable": true,
    "slideshow": {
     "slide_type": "subslide"
    },
    "tags": []
   },
   "outputs": [],
   "source": [
    "def spheres(n_pixels, n_spheres, max_radius, max_deform):\n",
    "    # generate a segmented image containing n_spheres randomly distributed, sized and deformed\n",
    "    voxels = np.zeros((n_pixels, n_pixels, n_pixels), dtype=np.uint16)\n",
    "    for n_sphere in range(1, n_spheres + 1):\n",
    "        center = np.random.randint(2, n_pixels - 2, 3)\n",
    "        nuclear_radius = np.random.randint(1, max_radius / 2)\n",
    "        cell_radius = np.random.randint(1.5 * nuclear_radius, max_radius)\n",
    "        deformation = np.random.uniform(1 / max_deform, max_deform, 3)\n",
    "        voxels[sphere_mask(voxels.shape, center, nuclear_radius, deformation)] = (\n",
    "            n_sphere\n",
    "        )\n",
    "    return voxels"
   ]
  },
  {
   "cell_type": "markdown",
   "id": "8",
   "metadata": {
    "editable": true,
    "slideshow": {
     "slide_type": "slide"
    },
    "tags": []
   },
   "source": [
    "### Generate segmented input data\n",
    "\n",
    "- construct a 40x40x40 3d image with 300 randomly distributed, sized and deformed spheres\n",
    "- each voxel has an index which identifies which sphere (if any) it belongs to"
   ]
  },
  {
   "cell_type": "code",
   "execution_count": null,
   "id": "9",
   "metadata": {
    "editable": true,
    "slideshow": {
     "slide_type": "fragment"
    },
    "tags": []
   },
   "outputs": [],
   "source": [
    "img_indexed = spheres(n_pixels=40, n_spheres=300, max_radius=14, max_deform=1.5)"
   ]
  },
  {
   "cell_type": "code",
   "execution_count": null,
   "id": "10",
   "metadata": {
    "editable": true,
    "slideshow": {
     "slide_type": "subslide"
    },
    "tags": []
   },
   "outputs": [],
   "source": [
    "show_image((img_indexed), \"Segmented image\", ignore_index=0)"
   ]
  },
  {
   "cell_type": "markdown",
   "id": "11",
   "metadata": {
    "editable": true,
    "slideshow": {
     "slide_type": "slide"
    },
    "tags": []
   },
   "source": [
    "### Generate explicit membranes by dilating each cell\n",
    "\n",
    "- We want to add explicit membrane compartments around each cell.\n",
    "- To do this we take a mask of each cell individually, dilate it, and select the pixels that differ from the original mask\n",
    "- Repeating this over all cells and combining the results gives us a mask of membrane compartment pixels"
   ]
  },
  {
   "cell_type": "code",
   "execution_count": null,
   "id": "12",
   "metadata": {
    "editable": true,
    "slideshow": {
     "slide_type": "fragment"
    },
    "tags": []
   },
   "outputs": [],
   "source": [
    "img_membrane_mask = np.zeros(img_indexed.shape).astype(bool)\n",
    "kernel = ndi.generate_binary_structure(rank=3, connectivity=1)\n",
    "kernel_size = (3, 3, 3)\n",
    "kernel = np.ones(kernel_size, dtype=np.uint8)\n",
    "for index in range(img_indexed.max()):\n",
    "    img = (img_indexed == index).astype(np.uint8)\n",
    "    img_membrane_mask |= ndi.binary_dilation(img) != img"
   ]
  },
  {
   "cell_type": "code",
   "execution_count": null,
   "id": "13",
   "metadata": {
    "editable": true,
    "slideshow": {
     "slide_type": "subslide"
    },
    "tags": []
   },
   "outputs": [],
   "source": [
    "show_image(img_membrane_mask, \"Membrane voxels\", ignore_index=0)"
   ]
  },
  {
   "cell_type": "markdown",
   "id": "14",
   "metadata": {
    "editable": true,
    "slideshow": {
     "slide_type": "subslide"
    },
    "tags": []
   },
   "source": [
    "### Define cells as any segmented pixel excluding membrane pixels\n",
    "\n",
    "- Now we select all pixels that were identified as cells\n",
    "- Then we exclude pixels that are part of the membrane mask to leave a cell mask"
   ]
  },
  {
   "cell_type": "code",
   "execution_count": null,
   "id": "15",
   "metadata": {
    "editable": true,
    "slideshow": {
     "slide_type": "fragment"
    },
    "tags": []
   },
   "outputs": [],
   "source": [
    "img_cell_mask = img_indexed != 0\n",
    "img_cell_mask = img_cell_mask & (img_cell_mask != img_membrane_mask)"
   ]
  },
  {
   "cell_type": "code",
   "execution_count": null,
   "id": "16",
   "metadata": {
    "editable": true,
    "slideshow": {
     "slide_type": "subslide"
    },
    "tags": []
   },
   "outputs": [],
   "source": [
    "show_image(img_cell_mask, \"Cell voxels\", ignore_index=0)"
   ]
  },
  {
   "cell_type": "markdown",
   "id": "17",
   "metadata": {
    "editable": true,
    "slideshow": {
     "slide_type": "slide"
    },
    "tags": []
   },
   "source": [
    "### Construct segmented geometry image for sme\n",
    "\n",
    "- From these masks we can construct a segmented geometry image for sme\n",
    "- Each colour in this image can then be assigned to a compartment in the model\n",
    "- We export the result as a 3d tiff to be imported into sme"
   ]
  },
  {
   "cell_type": "code",
   "execution_count": null,
   "id": "18",
   "metadata": {
    "editable": true,
    "slideshow": {
     "slide_type": "fragment"
    },
    "tags": []
   },
   "outputs": [],
   "source": [
    "img = np.zeros(img_cell_mask.shape, dtype=np.uint8)\n",
    "img[img_cell_mask] = 1\n",
    "img[img_membrane_mask] = 2\n",
    "tifffile.imwrite(\"geom3d.tiff\", img)"
   ]
  },
  {
   "cell_type": "code",
   "execution_count": null,
   "id": "19",
   "metadata": {
    "editable": true,
    "slideshow": {
     "slide_type": "subslide"
    },
    "tags": []
   },
   "outputs": [],
   "source": [
    "show_image(img, \"Geometry image\", ignore_index=0)"
   ]
  },
  {
   "cell_type": "markdown",
   "id": "20",
   "metadata": {
    "editable": true,
    "slideshow": {
     "slide_type": "slide"
    },
    "tags": []
   },
   "source": [
    "### Create sme model\n",
    "\n",
    "- This was done using the GUI, starting from the 2d toy model & importing a 3d geometry image\n",
    "- As in the 2d case: one species in each compartment, intially only non-zero in outside\n",
    "- Reactions: `outside <-> membrane` and `membrane <-> cell`\n",
    "- Here we open this model, then import the new geometry image generated above"
   ]
  },
  {
   "cell_type": "code",
   "execution_count": null,
   "id": "21",
   "metadata": {
    "editable": true,
    "slideshow": {
     "slide_type": "fragment"
    },
    "tags": []
   },
   "outputs": [],
   "source": [
    "model = sme.Model(\"3d-toy-model.xml\")"
   ]
  },
  {
   "cell_type": "code",
   "execution_count": null,
   "id": "22",
   "metadata": {
    "editable": true,
    "slideshow": {
     "slide_type": "fragment"
    },
    "tags": []
   },
   "outputs": [],
   "source": [
    "model.import_geometry_from_image(\"geom3d.tiff\")"
   ]
  },
  {
   "cell_type": "code",
   "execution_count": null,
   "id": "23",
   "metadata": {
    "editable": true,
    "slideshow": {
     "slide_type": "subslide"
    },
    "tags": []
   },
   "outputs": [],
   "source": [
    "show_image(model.compartment_image, \"Model geometry\")"
   ]
  },
  {
   "cell_type": "markdown",
   "id": "24",
   "metadata": {
    "editable": true,
    "slideshow": {
     "slide_type": "slide"
    },
    "tags": []
   },
   "source": [
    "### Simulate model\n",
    "\n",
    "- simulate for 60s, storing the results every 30s\n",
    "- this might take a few minutes"
   ]
  },
  {
   "cell_type": "code",
   "execution_count": null,
   "id": "25",
   "metadata": {
    "editable": true,
    "slideshow": {
     "slide_type": "fragment"
    },
    "tags": []
   },
   "outputs": [],
   "source": [
    "simulation_results = model.simulate(60, 30)"
   ]
  },
  {
   "cell_type": "markdown",
   "id": "26",
   "metadata": {
    "editable": true,
    "slideshow": {
     "slide_type": "subslide"
    },
    "tags": []
   },
   "source": [
    "### Simulation results"
   ]
  },
  {
   "cell_type": "code",
   "execution_count": null,
   "id": "27",
   "metadata": {
    "editable": true,
    "slideshow": {
     "slide_type": "fragment"
    },
    "tags": []
   },
   "outputs": [],
   "source": [
    "show_image(\n",
    "    simulation_results[0].concentration_image / 255.0,\n",
    "    f\"Concentrations at t={simulation_results[0].time_point}\",\n",
    ")"
   ]
  },
  {
   "cell_type": "code",
   "execution_count": null,
   "id": "28",
   "metadata": {
    "editable": true,
    "slideshow": {
     "slide_type": "subslide"
    },
    "tags": []
   },
   "outputs": [],
   "source": [
    "show_image(\n",
    "    simulation_results[1].concentration_image / 255.0,\n",
    "    f\"Concentrations at t={simulation_results[1].time_point}\",\n",
    ")"
   ]
  },
  {
   "cell_type": "code",
   "execution_count": null,
   "id": "29",
   "metadata": {
    "editable": true,
    "slideshow": {
     "slide_type": "subslide"
    },
    "tags": []
   },
   "outputs": [],
   "source": [
    "show_image(\n",
    "    simulation_results[2].concentration_image / 255.0,\n",
    "    f\"Concentrations at t={simulation_results[2].time_point}\",\n",
    ")"
   ]
  },
  {
   "cell_type": "code",
   "execution_count": null,
   "id": "30",
   "metadata": {},
   "outputs": [],
   "source": []
  }
 ],
 "metadata": {
  "kernelspec": {
   "display_name": "Python 3 (ipykernel)",
   "language": "python",
   "name": "python3"
  },
  "language_info": {
   "codemirror_mode": {
    "name": "ipython",
    "version": 3
   },
   "file_extension": ".py",
   "mimetype": "text/x-python",
   "name": "python",
   "nbconvert_exporter": "python",
   "pygments_lexer": "ipython3",
   "version": "3.10.0"
  }
 },
 "nbformat": 4,
 "nbformat_minor": 5
}
